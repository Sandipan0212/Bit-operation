{
  "nbformat": 4,
  "nbformat_minor": 0,
  "metadata": {
    "colab": {
      "provenance": [],
      "authorship_tag": "ABX9TyMLEdNc1ZJ79c6unpxWMcl3",
      "include_colab_link": true
    },
    "kernelspec": {
      "name": "python3",
      "display_name": "Python 3"
    },
    "language_info": {
      "name": "python"
    }
  },
  "cells": [
    {
      "cell_type": "markdown",
      "metadata": {
        "id": "view-in-github",
        "colab_type": "text"
      },
      "source": [
        "<a href=\"https://colab.research.google.com/github/Sandipan0212/Bit-operation/blob/main/OOPS.ipynb\" target=\"_parent\"><img src=\"https://colab.research.google.com/assets/colab-badge.svg\" alt=\"Open In Colab\"/></a>"
      ]
    },
    {
      "cell_type": "code",
      "execution_count": null,
      "metadata": {
        "id": "Wjzo7Ztqi-x3"
      },
      "outputs": [],
      "source": [
        "#constructors in python:\n",
        "\n",
        "###Initialization of objects: Constructors are used to initialize the objects of a class. Like __init__()\n",
        "###They allow you to set default values for attributes or properties, and also allow you to initialize the object with custom data.\n",
        "\n",
        "#disadvantage: Overloading not possible. Can't have multiple constructors.\n",
        "\n",
        "\n",
        "#Decorators are a very powerful and useful tool in Python since it allows programmers to modify the behaviour of a function or class.\n",
        "\n",
        "##Destructors are called when an object gets destroyed. In Python, destructors are not needed as much as in C++ because\n",
        "##Python has a garbage collector that handles memory management automatically.\n",
        "##The __del__() method is a known as a destructor method in Python.\n",
        "\n",
        "\n",
        "class Student():\n",
        "    def __init__(self,age,rank,nature):\n",
        "        self.age = age\n",
        "        #private\n",
        "        self.__rank = rank\n",
        "        self.__nature = nature\n",
        "\n",
        "Stu1 = Student(20,10,\"good\")\n",
        "#print(Stu1.nature)\n",
        "#print(getattr(Stu1,\"rank\"))"
      ]
    },
    {
      "cell_type": "code",
      "source": [
        "class goodStudent(Student):\n",
        "    def __init__(self,age,rank,nature,Topper):\n",
        "        Student.age = age\n",
        "        Student.__rank = rank\n",
        "        Student.__nature = nature\n",
        "        self.T = Topper\n",
        "    def printstudent(self):\n",
        "      print(Student.age, Student.__rank,Student.__nature,self.T)\n",
        "\n",
        "Stu2 = goodStudent(19,1,\"good\",True)\n",
        "\n",
        "Stu2.printstudent()\n",
        "#print(getattr(Stu2,\"T\"))\n",
        "Stu2.age"
      ],
      "metadata": {
        "colab": {
          "base_uri": "https://localhost:8080/"
        },
        "id": "SLA8CgC1jLNw",
        "outputId": "e269c3d4-36ac-43a8-fdcd-6846cc302020"
      },
      "execution_count": null,
      "outputs": [
        {
          "output_type": "stream",
          "name": "stdout",
          "text": [
            "19 1 good True\n"
          ]
        },
        {
          "output_type": "execute_result",
          "data": {
            "text/plain": [
              "19"
            ]
          },
          "metadata": {},
          "execution_count": 32
        }
      ]
    },
    {
      "cell_type": "code",
      "source": [
        "class Stud(Student):\n",
        "  def __init__(self,age,rank,nature,Topper):\n",
        "    super(Stud,self).__init__(age,rank,nature)\n",
        "    self.Topper = Topper"
      ],
      "metadata": {
        "id": "1FL9RGYTw0kj"
      },
      "execution_count": null,
      "outputs": []
    },
    {
      "cell_type": "code",
      "source": [
        "obj1 = Stud(18,1,\"good\",True)\n",
        "obj1.age"
      ],
      "metadata": {
        "colab": {
          "base_uri": "https://localhost:8080/"
        },
        "id": "3R8bxUsBxdVI",
        "outputId": "81cabd25-613d-4275-a63c-5f9ec1e36c7f"
      },
      "execution_count": null,
      "outputs": [
        {
          "output_type": "execute_result",
          "data": {
            "text/plain": [
              "18"
            ]
          },
          "metadata": {},
          "execution_count": 5
        }
      ]
    },
    {
      "cell_type": "code",
      "source": [
        "#multilevel inheritance\n",
        "\n",
        "#parent class\n",
        "class vehicle():\n",
        "  def __init__(self,manufacturer,model,fuel):\n",
        "    self.manufacturer = manufacturer\n",
        "    self.model = model\n",
        "    self.fuel = fuel\n",
        "\n",
        "#child class\n",
        "class car(vehicle):\n",
        "  def __init__(self,manufacturer,model,fuel,air_condition,sunroof):\n",
        "    super(car,self).__init__(manufacturer,model,fuel)\n",
        "\n",
        "    self.air_condition = air_condition\n",
        "    self.sunroof = sunroof\n",
        "\n",
        "#child of child\n",
        "class Electric(car):\n",
        "  def __init__(self,manufacturer,model,fuel,air_condition,sunroof,distance):\n",
        "    super(Electric,self).__init__(manufacturer,model,fuel,air_condition,sunroof)\n",
        "\n",
        "    self.sunroof = sunroof\n"
      ],
      "metadata": {
        "id": "3MXRZGQ2jLal"
      },
      "execution_count": null,
      "outputs": []
    },
    {
      "cell_type": "code",
      "source": [
        "myobj = Electric(\"Tesla\",2019,\"petrol\",True,False,150)\n",
        "myobj.__dict__"
      ],
      "metadata": {
        "colab": {
          "base_uri": "https://localhost:8080/"
        },
        "id": "Nzd5u_9Cy3P9",
        "outputId": "bf03d4f7-be32-4e60-bed0-adab90127fee"
      },
      "execution_count": null,
      "outputs": [
        {
          "output_type": "execute_result",
          "data": {
            "text/plain": [
              "{'manufacturer': 'Tesla',\n",
              " 'model': 2019,\n",
              " 'fuel': 'petrol',\n",
              " 'air_condition': True,\n",
              " 'sunroof': False}"
            ]
          },
          "metadata": {},
          "execution_count": 3
        }
      ]
    },
    {
      "cell_type": "code",
      "source": [
        "myobj.air_condition"
      ],
      "metadata": {
        "colab": {
          "base_uri": "https://localhost:8080/"
        },
        "id": "ylWje4TYy3XC",
        "outputId": "16287e15-c110-4bf2-f67c-925060a79456"
      },
      "execution_count": null,
      "outputs": [
        {
          "output_type": "execute_result",
          "data": {
            "text/plain": [
              "True"
            ]
          },
          "metadata": {},
          "execution_count": 5
        }
      ]
    },
    {
      "cell_type": "code",
      "source": [
        "#abstract class\n",
        "from abc import ABC, abstractmethod\n",
        "\n",
        "class vehicle(ABC):\n",
        "\n",
        "  @abstractmethod #to force the child class to maintain the decorum of parent class\n",
        "  def get_value():\n",
        "    pass\n",
        "\n",
        "class car(vehicle):\n",
        "  def __init__(self,make,model,fare):\n",
        "    self.make = make\n",
        "    self.model = model\n",
        "    self.fare = fare\n",
        "\n",
        "  #have to mention abstractmethod function\n",
        "  def get_value(self):\n",
        "    return self.fare * 100"
      ],
      "metadata": {
        "id": "RXplqwRdy3dz"
      },
      "execution_count": null,
      "outputs": []
    },
    {
      "cell_type": "code",
      "source": [
        "myobj = car(\"tesla\",2010,50000)\n",
        "print(myobj.fare)\n",
        "myobj.get_value()"
      ],
      "metadata": {
        "colab": {
          "base_uri": "https://localhost:8080/"
        },
        "id": "BSwtOkCd5Tl3",
        "outputId": "c521de6a-79f0-4428-a48d-c585272c5982"
      },
      "execution_count": null,
      "outputs": [
        {
          "output_type": "stream",
          "name": "stdout",
          "text": [
            "50000\n"
          ]
        },
        {
          "output_type": "execute_result",
          "data": {
            "text/plain": [
              "5000000"
            ]
          },
          "metadata": {},
          "execution_count": 20
        }
      ]
    },
    {
      "cell_type": "code",
      "source": [
        "x = ord('a')\n",
        "\n",
        "y = chr(x)\n",
        "y"
      ],
      "metadata": {
        "id": "MwJoVN2F5TtB",
        "colab": {
          "base_uri": "https://localhost:8080/",
          "height": 35
        },
        "outputId": "74fda313-282e-4528-e887-e8eaf97ded6b"
      },
      "execution_count": null,
      "outputs": [
        {
          "output_type": "execute_result",
          "data": {
            "text/plain": [
              "'a'"
            ],
            "application/vnd.google.colaboratory.intrinsic+json": {
              "type": "string"
            }
          },
          "metadata": {},
          "execution_count": 4
        }
      ]
    },
    {
      "cell_type": "code",
      "source": [
        "#decorators\n",
        "\n",
        "def div(a,b):\n",
        "  return (a/b)\n",
        "\n",
        "print(div(2,4))\n",
        "\n",
        "#adding feature without touching the original func\n",
        "\n",
        "def smart_div(func):\n",
        "\n",
        "  def inner(a,b):\n",
        "    if a < b:\n",
        "      a,b = b,a\n",
        "    return func(a,b)\n",
        "  return inner"
      ],
      "metadata": {
        "id": "2dVFXlZp5Tw0",
        "colab": {
          "base_uri": "https://localhost:8080/"
        },
        "outputId": "8f5aa960-2e2a-410a-a02c-4df84a6a3723"
      },
      "execution_count": null,
      "outputs": [
        {
          "output_type": "stream",
          "name": "stdout",
          "text": [
            "0.5\n"
          ]
        }
      ]
    },
    {
      "cell_type": "code",
      "source": [
        "div = smart_div(div)\n",
        "print(div(2,4))"
      ],
      "metadata": {
        "id": "lTFsugJH5Tzw",
        "colab": {
          "base_uri": "https://localhost:8080/"
        },
        "outputId": "18f6e8ed-aa77-426c-da1f-38a77c5df9b6"
      },
      "execution_count": null,
      "outputs": [
        {
          "output_type": "stream",
          "name": "stdout",
          "text": [
            "2.0\n"
          ]
        }
      ]
    },
    {
      "cell_type": "code",
      "source": [],
      "metadata": {
        "id": "jJvhD0qq5T2a"
      },
      "execution_count": null,
      "outputs": []
    }
  ]
}